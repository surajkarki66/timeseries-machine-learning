{
 "cells": [
  {
   "cell_type": "code",
   "execution_count": 1,
   "id": "345362eb-997c-4821-aaef-04550b489e19",
   "metadata": {
    "tags": []
   },
   "outputs": [],
   "source": [
    "from sktime.datasets import load_airline"
   ]
  },
  {
   "cell_type": "code",
   "execution_count": 2,
   "id": "37c4e1fc-48de-4584-a156-e1f4d65bf20f",
   "metadata": {
    "tags": []
   },
   "outputs": [],
   "source": [
    "airline = load_airline()"
   ]
  },
  {
   "cell_type": "code",
   "execution_count": 3,
   "id": "c767c7a3-b563-4e89-a6a5-fca387245483",
   "metadata": {
    "tags": []
   },
   "outputs": [
    {
     "data": {
      "text/plain": [
       "Period\n",
       "1949-01    112.0\n",
       "1949-02    118.0\n",
       "1949-03    132.0\n",
       "1949-04    129.0\n",
       "1949-05    121.0\n",
       "1949-06    135.0\n",
       "1949-07    148.0\n",
       "1949-08    148.0\n",
       "1949-09    136.0\n",
       "1949-10    119.0\n",
       "Freq: M, Name: Number of airline passengers, dtype: float64"
      ]
     },
     "execution_count": 3,
     "metadata": {},
     "output_type": "execute_result"
    }
   ],
   "source": [
    "airline[:10]"
   ]
  },
  {
   "cell_type": "markdown",
   "id": "4e62c9d4-f112-4e5a-aecc-0d241f15f7bb",
   "metadata": {},
   "source": [
    "## We use Reduction approach in order to convert the timeseries data into (x,y)"
   ]
  },
  {
   "cell_type": "code",
   "execution_count": 4,
   "id": "1e89bfa9-6abf-4d01-8d36-579a8346005f",
   "metadata": {
    "tags": []
   },
   "outputs": [],
   "source": [
    "features = []\n",
    "targets = []\n",
    "\n",
    "for i in range(len(airline)-10):\n",
    "    features.append(airline[i:i+10])\n",
    "    targets.append(airline[i+10])"
   ]
  },
  {
   "cell_type": "code",
   "execution_count": 5,
   "id": "746c77f6-a55f-4715-9c00-d58baac1e183",
   "metadata": {
    "tags": []
   },
   "outputs": [],
   "source": [
    "import numpy as np"
   ]
  },
  {
   "cell_type": "code",
   "execution_count": 6,
   "id": "6d23c8b8-3a2c-4de9-abf5-7e22ddd8a572",
   "metadata": {
    "tags": []
   },
   "outputs": [],
   "source": [
    "features = np.array(features)\n",
    "targets = np.array(targets)"
   ]
  },
  {
   "cell_type": "code",
   "execution_count": 7,
   "id": "85d59f33-25be-4010-b598-3843b41684cc",
   "metadata": {
    "tags": []
   },
   "outputs": [
    {
     "data": {
      "text/plain": [
       "(134, 10)"
      ]
     },
     "execution_count": 7,
     "metadata": {},
     "output_type": "execute_result"
    }
   ],
   "source": [
    "features.shape"
   ]
  },
  {
   "cell_type": "code",
   "execution_count": 8,
   "id": "1514b467-fca8-42b3-8340-8778c30304ba",
   "metadata": {
    "tags": []
   },
   "outputs": [
    {
     "data": {
      "text/plain": [
       "(134,)"
      ]
     },
     "execution_count": 8,
     "metadata": {},
     "output_type": "execute_result"
    }
   ],
   "source": [
    "targets.shape"
   ]
  },
  {
   "cell_type": "code",
   "execution_count": 9,
   "id": "1e841701-a1ff-41c4-9da1-1cf91e816161",
   "metadata": {},
   "outputs": [],
   "source": [
    "train_len = int(len(targets)*0.80)"
   ]
  },
  {
   "cell_type": "code",
   "execution_count": 10,
   "id": "61b4eec8-ba0d-4cf4-bc49-5796b5413029",
   "metadata": {
    "tags": []
   },
   "outputs": [
    {
     "name": "stdout",
     "output_type": "stream",
     "text": [
      "107\n"
     ]
    }
   ],
   "source": [
    "print(train_len)"
   ]
  },
  {
   "cell_type": "code",
   "execution_count": 11,
   "id": "932c3b2f-68b4-4a51-9fc6-3d49b708a229",
   "metadata": {
    "tags": []
   },
   "outputs": [],
   "source": [
    "train_features = features[:train_len]\n",
    "train_target = targets[:train_len]\n",
    "test_features = features[train_len:]\n",
    "test_target = targets[train_len:]"
   ]
  },
  {
   "cell_type": "code",
   "execution_count": 12,
   "id": "f425aae7-4f19-46e9-837e-249acb6787db",
   "metadata": {
    "tags": []
   },
   "outputs": [
    {
     "name": "stdout",
     "output_type": "stream",
     "text": [
      "(107, 10)\n",
      "(107,)\n"
     ]
    }
   ],
   "source": [
    "print(train_features.shape)\n",
    "print(train_target.shape)"
   ]
  },
  {
   "cell_type": "code",
   "execution_count": 13,
   "id": "784d9562-6099-4419-a56f-3cc4d1aed904",
   "metadata": {
    "tags": []
   },
   "outputs": [
    {
     "name": "stdout",
     "output_type": "stream",
     "text": [
      "(27, 10)\n",
      "(27,)\n"
     ]
    }
   ],
   "source": [
    "print(test_features.shape)\n",
    "print(test_target.shape)"
   ]
  },
  {
   "cell_type": "code",
   "execution_count": 14,
   "id": "c1ce2666-5ede-4edb-b84c-8d6b15ee97ed",
   "metadata": {
    "tags": []
   },
   "outputs": [],
   "source": [
    "from sklearn.tree import DecisionTreeRegressor"
   ]
  },
  {
   "cell_type": "code",
   "execution_count": 15,
   "id": "2b9a59e2-97ee-4bc6-94bd-2ef39d76522e",
   "metadata": {
    "tags": []
   },
   "outputs": [],
   "source": [
    "reg = DecisionTreeRegressor()"
   ]
  },
  {
   "cell_type": "code",
   "execution_count": 16,
   "id": "849fb395-8e33-48d6-bcb9-da31d2fb7144",
   "metadata": {
    "tags": []
   },
   "outputs": [
    {
     "data": {
      "text/html": [
       "<style>#sk-container-id-1 {color: black;}#sk-container-id-1 pre{padding: 0;}#sk-container-id-1 div.sk-toggleable {background-color: white;}#sk-container-id-1 label.sk-toggleable__label {cursor: pointer;display: block;width: 100%;margin-bottom: 0;padding: 0.3em;box-sizing: border-box;text-align: center;}#sk-container-id-1 label.sk-toggleable__label-arrow:before {content: \"▸\";float: left;margin-right: 0.25em;color: #696969;}#sk-container-id-1 label.sk-toggleable__label-arrow:hover:before {color: black;}#sk-container-id-1 div.sk-estimator:hover label.sk-toggleable__label-arrow:before {color: black;}#sk-container-id-1 div.sk-toggleable__content {max-height: 0;max-width: 0;overflow: hidden;text-align: left;background-color: #f0f8ff;}#sk-container-id-1 div.sk-toggleable__content pre {margin: 0.2em;color: black;border-radius: 0.25em;background-color: #f0f8ff;}#sk-container-id-1 input.sk-toggleable__control:checked~div.sk-toggleable__content {max-height: 200px;max-width: 100%;overflow: auto;}#sk-container-id-1 input.sk-toggleable__control:checked~label.sk-toggleable__label-arrow:before {content: \"▾\";}#sk-container-id-1 div.sk-estimator input.sk-toggleable__control:checked~label.sk-toggleable__label {background-color: #d4ebff;}#sk-container-id-1 div.sk-label input.sk-toggleable__control:checked~label.sk-toggleable__label {background-color: #d4ebff;}#sk-container-id-1 input.sk-hidden--visually {border: 0;clip: rect(1px 1px 1px 1px);clip: rect(1px, 1px, 1px, 1px);height: 1px;margin: -1px;overflow: hidden;padding: 0;position: absolute;width: 1px;}#sk-container-id-1 div.sk-estimator {font-family: monospace;background-color: #f0f8ff;border: 1px dotted black;border-radius: 0.25em;box-sizing: border-box;margin-bottom: 0.5em;}#sk-container-id-1 div.sk-estimator:hover {background-color: #d4ebff;}#sk-container-id-1 div.sk-parallel-item::after {content: \"\";width: 100%;border-bottom: 1px solid gray;flex-grow: 1;}#sk-container-id-1 div.sk-label:hover label.sk-toggleable__label {background-color: #d4ebff;}#sk-container-id-1 div.sk-serial::before {content: \"\";position: absolute;border-left: 1px solid gray;box-sizing: border-box;top: 0;bottom: 0;left: 50%;z-index: 0;}#sk-container-id-1 div.sk-serial {display: flex;flex-direction: column;align-items: center;background-color: white;padding-right: 0.2em;padding-left: 0.2em;position: relative;}#sk-container-id-1 div.sk-item {position: relative;z-index: 1;}#sk-container-id-1 div.sk-parallel {display: flex;align-items: stretch;justify-content: center;background-color: white;position: relative;}#sk-container-id-1 div.sk-item::before, #sk-container-id-1 div.sk-parallel-item::before {content: \"\";position: absolute;border-left: 1px solid gray;box-sizing: border-box;top: 0;bottom: 0;left: 50%;z-index: -1;}#sk-container-id-1 div.sk-parallel-item {display: flex;flex-direction: column;z-index: 1;position: relative;background-color: white;}#sk-container-id-1 div.sk-parallel-item:first-child::after {align-self: flex-end;width: 50%;}#sk-container-id-1 div.sk-parallel-item:last-child::after {align-self: flex-start;width: 50%;}#sk-container-id-1 div.sk-parallel-item:only-child::after {width: 0;}#sk-container-id-1 div.sk-dashed-wrapped {border: 1px dashed gray;margin: 0 0.4em 0.5em 0.4em;box-sizing: border-box;padding-bottom: 0.4em;background-color: white;}#sk-container-id-1 div.sk-label label {font-family: monospace;font-weight: bold;display: inline-block;line-height: 1.2em;}#sk-container-id-1 div.sk-label-container {text-align: center;}#sk-container-id-1 div.sk-container {/* jupyter's `normalize.less` sets `[hidden] { display: none; }` but bootstrap.min.css set `[hidden] { display: none !important; }` so we also need the `!important` here to be able to override the default hidden behavior on the sphinx rendered scikit-learn.org. See: https://github.com/scikit-learn/scikit-learn/issues/21755 */display: inline-block !important;position: relative;}#sk-container-id-1 div.sk-text-repr-fallback {display: none;}</style><div id=\"sk-container-id-1\" class=\"sk-top-container\"><div class=\"sk-text-repr-fallback\"><pre>DecisionTreeRegressor()</pre><b>In a Jupyter environment, please rerun this cell to show the HTML representation or trust the notebook. <br />On GitHub, the HTML representation is unable to render, please try loading this page with nbviewer.org.</b></div><div class=\"sk-container\" hidden><div class=\"sk-item\"><div class=\"sk-estimator sk-toggleable\"><input class=\"sk-toggleable__control sk-hidden--visually\" id=\"sk-estimator-id-1\" type=\"checkbox\" checked><label for=\"sk-estimator-id-1\" class=\"sk-toggleable__label sk-toggleable__label-arrow\">DecisionTreeRegressor</label><div class=\"sk-toggleable__content\"><pre>DecisionTreeRegressor()</pre></div></div></div></div></div>"
      ],
      "text/plain": [
       "DecisionTreeRegressor()"
      ]
     },
     "execution_count": 16,
     "metadata": {},
     "output_type": "execute_result"
    }
   ],
   "source": [
    "reg.fit(train_features, train_target)"
   ]
  },
  {
   "cell_type": "code",
   "execution_count": 17,
   "id": "03bcfe70-1271-485d-95ae-247a8aabdcf0",
   "metadata": {
    "tags": []
   },
   "outputs": [],
   "source": [
    "pred_target = reg.predict(test_features)"
   ]
  },
  {
   "cell_type": "code",
   "execution_count": 18,
   "id": "24f56a7f-b9e3-4a43-bf32-bfe8af712a81",
   "metadata": {
    "tags": []
   },
   "outputs": [
    {
     "data": {
      "text/plain": [
       "array([491., 422., 422., 422., 348., 348., 465., 505., 505., 491., 505.,\n",
       "       467., 505., 505., 422., 505., 505., 505., 505., 505., 505., 505.,\n",
       "       505., 505., 505., 505., 505.])"
      ]
     },
     "execution_count": 18,
     "metadata": {},
     "output_type": "execute_result"
    }
   ],
   "source": [
    "pred_target"
   ]
  },
  {
   "cell_type": "code",
   "execution_count": 19,
   "id": "9718e887-aa8b-44d0-b1e6-608276c6ce24",
   "metadata": {
    "tags": []
   },
   "outputs": [],
   "source": [
    "from sklearn.metrics import mean_squared_error"
   ]
  },
  {
   "cell_type": "code",
   "execution_count": 20,
   "id": "d87c180a-6627-4e2b-9180-9d5ea0e4898f",
   "metadata": {
    "tags": []
   },
   "outputs": [
    {
     "data": {
      "text/plain": [
       "6314.259259259259"
      ]
     },
     "execution_count": 20,
     "metadata": {},
     "output_type": "execute_result"
    }
   ],
   "source": [
    "mean_squared_error(test_target, pred_target)"
   ]
  },
  {
   "cell_type": "markdown",
   "id": "1d39b051-a84e-479f-a68f-dbf6378cbb89",
   "metadata": {},
   "source": [
    "### Alternative approach: Using sktime library we can do all above steps easily"
   ]
  },
  {
   "cell_type": "code",
   "execution_count": 22,
   "id": "3db42c70-ea96-41f8-81fe-a0d6c85f864f",
   "metadata": {
    "tags": []
   },
   "outputs": [],
   "source": [
    "from sktime.forecasting.model_selection import temporal_train_test_split\n",
    "from sktime.forecasting.compose import make_reduction\n",
    "from sklearn.ensemble import GradientBoostingRegressor"
   ]
  },
  {
   "cell_type": "code",
   "execution_count": 23,
   "id": "99fdc738-3466-4914-abbb-4af92863f1c7",
   "metadata": {},
   "outputs": [],
   "source": [
    "y_train, y_test = temporal_train_test_split(airline, test_size=36)"
   ]
  },
  {
   "cell_type": "code",
   "execution_count": 24,
   "id": "0e316c69-f0ad-4857-8dd7-9a87e706d1a1",
   "metadata": {
    "tags": []
   },
   "outputs": [],
   "source": [
    "regressor = GradientBoostingRegressor()"
   ]
  },
  {
   "cell_type": "code",
   "execution_count": 25,
   "id": "fc9df1b9-0169-49c7-89b9-c255ddb394f6",
   "metadata": {
    "tags": []
   },
   "outputs": [],
   "source": [
    "forecaster = make_reduction(regressor, window_length=15, strategy=\"recursive\")"
   ]
  },
  {
   "cell_type": "code",
   "execution_count": 26,
   "id": "d63e8622-51a7-44d5-8fb2-e56f2de927c7",
   "metadata": {
    "tags": []
   },
   "outputs": [
    {
     "data": {
      "text/html": [
       "<style>#sk-2c514383-00a4-47ee-b1d5-93494552fb5a {color: black;background-color: white;}#sk-2c514383-00a4-47ee-b1d5-93494552fb5a pre{padding: 0;}#sk-2c514383-00a4-47ee-b1d5-93494552fb5a div.sk-toggleable {background-color: white;}#sk-2c514383-00a4-47ee-b1d5-93494552fb5a label.sk-toggleable__label {cursor: pointer;display: block;width: 100%;margin-bottom: 0;padding: 0.3em;box-sizing: border-box;text-align: center;}#sk-2c514383-00a4-47ee-b1d5-93494552fb5a label.sk-toggleable__label-arrow:before {content: \"▸\";float: left;margin-right: 0.25em;color: #696969;}#sk-2c514383-00a4-47ee-b1d5-93494552fb5a label.sk-toggleable__label-arrow:hover:before {color: black;}#sk-2c514383-00a4-47ee-b1d5-93494552fb5a div.sk-estimator:hover label.sk-toggleable__label-arrow:before {color: black;}#sk-2c514383-00a4-47ee-b1d5-93494552fb5a div.sk-toggleable__content {max-height: 0;max-width: 0;overflow: hidden;text-align: left;background-color: #f0f8ff;}#sk-2c514383-00a4-47ee-b1d5-93494552fb5a div.sk-toggleable__content pre {margin: 0.2em;color: black;border-radius: 0.25em;background-color: #f0f8ff;}#sk-2c514383-00a4-47ee-b1d5-93494552fb5a input.sk-toggleable__control:checked~div.sk-toggleable__content {max-height: 200px;max-width: 100%;overflow: auto;}#sk-2c514383-00a4-47ee-b1d5-93494552fb5a input.sk-toggleable__control:checked~label.sk-toggleable__label-arrow:before {content: \"▾\";}#sk-2c514383-00a4-47ee-b1d5-93494552fb5a div.sk-estimator input.sk-toggleable__control:checked~label.sk-toggleable__label {background-color: #d4ebff;}#sk-2c514383-00a4-47ee-b1d5-93494552fb5a div.sk-label input.sk-toggleable__control:checked~label.sk-toggleable__label {background-color: #d4ebff;}#sk-2c514383-00a4-47ee-b1d5-93494552fb5a input.sk-hidden--visually {border: 0;clip: rect(1px 1px 1px 1px);clip: rect(1px, 1px, 1px, 1px);height: 1px;margin: -1px;overflow: hidden;padding: 0;position: absolute;width: 1px;}#sk-2c514383-00a4-47ee-b1d5-93494552fb5a div.sk-estimator {font-family: monospace;background-color: #f0f8ff;border: 1px dotted black;border-radius: 0.25em;box-sizing: border-box;margin-bottom: 0.5em;}#sk-2c514383-00a4-47ee-b1d5-93494552fb5a div.sk-estimator:hover {background-color: #d4ebff;}#sk-2c514383-00a4-47ee-b1d5-93494552fb5a div.sk-parallel-item::after {content: \"\";width: 100%;border-bottom: 1px solid gray;flex-grow: 1;}#sk-2c514383-00a4-47ee-b1d5-93494552fb5a div.sk-label:hover label.sk-toggleable__label {background-color: #d4ebff;}#sk-2c514383-00a4-47ee-b1d5-93494552fb5a div.sk-serial::before {content: \"\";position: absolute;border-left: 1px solid gray;box-sizing: border-box;top: 2em;bottom: 0;left: 50%;}#sk-2c514383-00a4-47ee-b1d5-93494552fb5a div.sk-serial {display: flex;flex-direction: column;align-items: center;background-color: white;padding-right: 0.2em;padding-left: 0.2em;}#sk-2c514383-00a4-47ee-b1d5-93494552fb5a div.sk-item {z-index: 1;}#sk-2c514383-00a4-47ee-b1d5-93494552fb5a div.sk-parallel {display: flex;align-items: stretch;justify-content: center;background-color: white;}#sk-2c514383-00a4-47ee-b1d5-93494552fb5a div.sk-parallel::before {content: \"\";position: absolute;border-left: 1px solid gray;box-sizing: border-box;top: 2em;bottom: 0;left: 50%;}#sk-2c514383-00a4-47ee-b1d5-93494552fb5a div.sk-parallel-item {display: flex;flex-direction: column;position: relative;background-color: white;}#sk-2c514383-00a4-47ee-b1d5-93494552fb5a div.sk-parallel-item:first-child::after {align-self: flex-end;width: 50%;}#sk-2c514383-00a4-47ee-b1d5-93494552fb5a div.sk-parallel-item:last-child::after {align-self: flex-start;width: 50%;}#sk-2c514383-00a4-47ee-b1d5-93494552fb5a div.sk-parallel-item:only-child::after {width: 0;}#sk-2c514383-00a4-47ee-b1d5-93494552fb5a div.sk-dashed-wrapped {border: 1px dashed gray;margin: 0 0.4em 0.5em 0.4em;box-sizing: border-box;padding-bottom: 0.4em;background-color: white;position: relative;}#sk-2c514383-00a4-47ee-b1d5-93494552fb5a div.sk-label label {font-family: monospace;font-weight: bold;background-color: white;display: inline-block;line-height: 1.2em;}#sk-2c514383-00a4-47ee-b1d5-93494552fb5a div.sk-label-container {position: relative;z-index: 2;text-align: center;}#sk-2c514383-00a4-47ee-b1d5-93494552fb5a div.sk-container {/* jupyter's `normalize.less` sets `[hidden] { display: none; }` but bootstrap.min.css set `[hidden] { display: none !important; }` so we also need the `!important` here to be able to override the default hidden behavior on the sphinx rendered scikit-learn.org. See: https://github.com/scikit-learn/scikit-learn/issues/21755 */display: inline-block !important;position: relative;}#sk-2c514383-00a4-47ee-b1d5-93494552fb5a div.sk-text-repr-fallback {display: none;}</style><div id='sk-2c514383-00a4-47ee-b1d5-93494552fb5a' class=\"sk-top-container\"><div class=\"sk-text-repr-fallback\"><pre>RecursiveTabularRegressionForecaster(estimator=GradientBoostingRegressor(),\n",
       "                                     window_length=15)</pre><b>Please rerun this cell to show the HTML repr or trust the notebook.</b></div><div class=\"sk-container\" hidden><div class=\"sk-item sk-dashed-wrapped\"><div class='sk-label-container'><div class=\"sk-label sk-toggleable\"><input class=\"sk-toggleable__control sk-hidden--visually\" id=UUID('1191e645-eb7f-4227-92df-e239fd497e12') type=\"checkbox\" ><label for=UUID('1191e645-eb7f-4227-92df-e239fd497e12') class='sk-toggleable__label sk-toggleable__label-arrow'>RecursiveTabularRegressionForecaster</label><div class=\"sk-toggleable__content\"><pre>RecursiveTabularRegressionForecaster(estimator=GradientBoostingRegressor(),\n",
       "                                     window_length=15)</pre></div></div></div><div class=\"sk-parallel\"><div class=\"sk-parallel-item\"><div class=\"sk-item\"><div class=\"sk-serial\"><div class='sk-item'><div class=\"sk-estimator sk-toggleable\"><input class=\"sk-toggleable__control sk-hidden--visually\" id=UUID('aa066a93-3020-4a29-872c-89f2e3ffe3af') type=\"checkbox\" ><label for=UUID('aa066a93-3020-4a29-872c-89f2e3ffe3af') class='sk-toggleable__label sk-toggleable__label-arrow'>GradientBoostingRegressor</label><div class=\"sk-toggleable__content\"><pre>GradientBoostingRegressor()</pre></div></div></div></div></div></div></div></div></div></div>"
      ],
      "text/plain": [
       "RecursiveTabularRegressionForecaster(estimator=GradientBoostingRegressor(),\n",
       "                                     window_length=15)"
      ]
     },
     "execution_count": 26,
     "metadata": {},
     "output_type": "execute_result"
    }
   ],
   "source": [
    "forecaster.fit(y_train)"
   ]
  },
  {
   "cell_type": "code",
   "execution_count": 27,
   "id": "43e571c9-f7b9-428e-8c71-f39211a55bb8",
   "metadata": {
    "tags": []
   },
   "outputs": [],
   "source": [
    "y_pred = forecaster.predict(fh=np.arange(1, len(y_test)+1))"
   ]
  },
  {
   "cell_type": "code",
   "execution_count": 30,
   "id": "90db7b10-3398-407a-950d-48327a248ef6",
   "metadata": {
    "tags": []
   },
   "outputs": [],
   "source": [
    "from sktime.performance_metrics.forecasting import mean_absolute_percentage_error"
   ]
  },
  {
   "cell_type": "code",
   "execution_count": 31,
   "id": "3042ac2e-b3bb-4a53-afa7-001f5c503f60",
   "metadata": {
    "tags": []
   },
   "outputs": [
    {
     "data": {
      "text/plain": [
       "0.11593642659387288"
      ]
     },
     "execution_count": 31,
     "metadata": {},
     "output_type": "execute_result"
    }
   ],
   "source": [
    "mean_absolute_percentage_error(y_test, y_pred, symmetric=True)"
   ]
  },
  {
   "cell_type": "code",
   "execution_count": 32,
   "id": "56e25fe9-531e-49ed-ae50-654cae2c1f74",
   "metadata": {
    "tags": []
   },
   "outputs": [],
   "source": [
    "from sktime.regression.kernel_based import RocketRegressor"
   ]
  },
  {
   "cell_type": "code",
   "execution_count": 33,
   "id": "eb69bea0-0939-488d-83cc-7ea706fb1017",
   "metadata": {
    "tags": []
   },
   "outputs": [],
   "source": [
    "reg = RocketRegressor(num_kernels=500)"
   ]
  },
  {
   "cell_type": "code",
   "execution_count": 34,
   "id": "ab5f13bc-2bda-4817-95fb-cde6a8366a9e",
   "metadata": {
    "tags": []
   },
   "outputs": [],
   "source": [
    "forecaster2 = make_reduction(reg, window_length=15, strategy=\"recursive\")"
   ]
  },
  {
   "cell_type": "code",
   "execution_count": 35,
   "id": "8bdc3c4c-c7e7-4d57-b62f-518854e61cd0",
   "metadata": {
    "tags": []
   },
   "outputs": [
    {
     "data": {
      "text/html": [
       "<style>#sk-dad3e65d-7069-41a1-b4f8-051a463852f8 {color: black;background-color: white;}#sk-dad3e65d-7069-41a1-b4f8-051a463852f8 pre{padding: 0;}#sk-dad3e65d-7069-41a1-b4f8-051a463852f8 div.sk-toggleable {background-color: white;}#sk-dad3e65d-7069-41a1-b4f8-051a463852f8 label.sk-toggleable__label {cursor: pointer;display: block;width: 100%;margin-bottom: 0;padding: 0.3em;box-sizing: border-box;text-align: center;}#sk-dad3e65d-7069-41a1-b4f8-051a463852f8 label.sk-toggleable__label-arrow:before {content: \"▸\";float: left;margin-right: 0.25em;color: #696969;}#sk-dad3e65d-7069-41a1-b4f8-051a463852f8 label.sk-toggleable__label-arrow:hover:before {color: black;}#sk-dad3e65d-7069-41a1-b4f8-051a463852f8 div.sk-estimator:hover label.sk-toggleable__label-arrow:before {color: black;}#sk-dad3e65d-7069-41a1-b4f8-051a463852f8 div.sk-toggleable__content {max-height: 0;max-width: 0;overflow: hidden;text-align: left;background-color: #f0f8ff;}#sk-dad3e65d-7069-41a1-b4f8-051a463852f8 div.sk-toggleable__content pre {margin: 0.2em;color: black;border-radius: 0.25em;background-color: #f0f8ff;}#sk-dad3e65d-7069-41a1-b4f8-051a463852f8 input.sk-toggleable__control:checked~div.sk-toggleable__content {max-height: 200px;max-width: 100%;overflow: auto;}#sk-dad3e65d-7069-41a1-b4f8-051a463852f8 input.sk-toggleable__control:checked~label.sk-toggleable__label-arrow:before {content: \"▾\";}#sk-dad3e65d-7069-41a1-b4f8-051a463852f8 div.sk-estimator input.sk-toggleable__control:checked~label.sk-toggleable__label {background-color: #d4ebff;}#sk-dad3e65d-7069-41a1-b4f8-051a463852f8 div.sk-label input.sk-toggleable__control:checked~label.sk-toggleable__label {background-color: #d4ebff;}#sk-dad3e65d-7069-41a1-b4f8-051a463852f8 input.sk-hidden--visually {border: 0;clip: rect(1px 1px 1px 1px);clip: rect(1px, 1px, 1px, 1px);height: 1px;margin: -1px;overflow: hidden;padding: 0;position: absolute;width: 1px;}#sk-dad3e65d-7069-41a1-b4f8-051a463852f8 div.sk-estimator {font-family: monospace;background-color: #f0f8ff;border: 1px dotted black;border-radius: 0.25em;box-sizing: border-box;margin-bottom: 0.5em;}#sk-dad3e65d-7069-41a1-b4f8-051a463852f8 div.sk-estimator:hover {background-color: #d4ebff;}#sk-dad3e65d-7069-41a1-b4f8-051a463852f8 div.sk-parallel-item::after {content: \"\";width: 100%;border-bottom: 1px solid gray;flex-grow: 1;}#sk-dad3e65d-7069-41a1-b4f8-051a463852f8 div.sk-label:hover label.sk-toggleable__label {background-color: #d4ebff;}#sk-dad3e65d-7069-41a1-b4f8-051a463852f8 div.sk-serial::before {content: \"\";position: absolute;border-left: 1px solid gray;box-sizing: border-box;top: 2em;bottom: 0;left: 50%;}#sk-dad3e65d-7069-41a1-b4f8-051a463852f8 div.sk-serial {display: flex;flex-direction: column;align-items: center;background-color: white;padding-right: 0.2em;padding-left: 0.2em;}#sk-dad3e65d-7069-41a1-b4f8-051a463852f8 div.sk-item {z-index: 1;}#sk-dad3e65d-7069-41a1-b4f8-051a463852f8 div.sk-parallel {display: flex;align-items: stretch;justify-content: center;background-color: white;}#sk-dad3e65d-7069-41a1-b4f8-051a463852f8 div.sk-parallel::before {content: \"\";position: absolute;border-left: 1px solid gray;box-sizing: border-box;top: 2em;bottom: 0;left: 50%;}#sk-dad3e65d-7069-41a1-b4f8-051a463852f8 div.sk-parallel-item {display: flex;flex-direction: column;position: relative;background-color: white;}#sk-dad3e65d-7069-41a1-b4f8-051a463852f8 div.sk-parallel-item:first-child::after {align-self: flex-end;width: 50%;}#sk-dad3e65d-7069-41a1-b4f8-051a463852f8 div.sk-parallel-item:last-child::after {align-self: flex-start;width: 50%;}#sk-dad3e65d-7069-41a1-b4f8-051a463852f8 div.sk-parallel-item:only-child::after {width: 0;}#sk-dad3e65d-7069-41a1-b4f8-051a463852f8 div.sk-dashed-wrapped {border: 1px dashed gray;margin: 0 0.4em 0.5em 0.4em;box-sizing: border-box;padding-bottom: 0.4em;background-color: white;position: relative;}#sk-dad3e65d-7069-41a1-b4f8-051a463852f8 div.sk-label label {font-family: monospace;font-weight: bold;background-color: white;display: inline-block;line-height: 1.2em;}#sk-dad3e65d-7069-41a1-b4f8-051a463852f8 div.sk-label-container {position: relative;z-index: 2;text-align: center;}#sk-dad3e65d-7069-41a1-b4f8-051a463852f8 div.sk-container {/* jupyter's `normalize.less` sets `[hidden] { display: none; }` but bootstrap.min.css set `[hidden] { display: none !important; }` so we also need the `!important` here to be able to override the default hidden behavior on the sphinx rendered scikit-learn.org. See: https://github.com/scikit-learn/scikit-learn/issues/21755 */display: inline-block !important;position: relative;}#sk-dad3e65d-7069-41a1-b4f8-051a463852f8 div.sk-text-repr-fallback {display: none;}</style><div id='sk-dad3e65d-7069-41a1-b4f8-051a463852f8' class=\"sk-top-container\"><div class=\"sk-text-repr-fallback\"><pre>RecursiveTimeSeriesRegressionForecaster(estimator=RocketRegressor(num_kernels=500),\n",
       "                                        window_length=15)</pre><b>Please rerun this cell to show the HTML repr or trust the notebook.</b></div><div class=\"sk-container\" hidden><div class=\"sk-item sk-dashed-wrapped\"><div class='sk-label-container'><div class=\"sk-label sk-toggleable\"><input class=\"sk-toggleable__control sk-hidden--visually\" id=UUID('4a7591d6-14bc-4d4e-a839-b14b62c9d751') type=\"checkbox\" ><label for=UUID('4a7591d6-14bc-4d4e-a839-b14b62c9d751') class='sk-toggleable__label sk-toggleable__label-arrow'>RecursiveTimeSeriesRegressionForecaster</label><div class=\"sk-toggleable__content\"><pre>RecursiveTimeSeriesRegressionForecaster(estimator=RocketRegressor(num_kernels=500),\n",
       "                                        window_length=15)</pre></div></div></div><div class=\"sk-parallel\"><div class=\"sk-parallel-item\"><div class=\"sk-item\"><div class=\"sk-serial\"><div class='sk-item'><div class=\"sk-estimator sk-toggleable\"><input class=\"sk-toggleable__control sk-hidden--visually\" id=UUID('f7799dfb-cf82-4b9e-9d11-59915887bd17') type=\"checkbox\" ><label for=UUID('f7799dfb-cf82-4b9e-9d11-59915887bd17') class='sk-toggleable__label sk-toggleable__label-arrow'>RocketRegressor</label><div class=\"sk-toggleable__content\"><pre>RocketRegressor(num_kernels=500)</pre></div></div></div></div></div></div></div></div></div></div>"
      ],
      "text/plain": [
       "RecursiveTimeSeriesRegressionForecaster(estimator=RocketRegressor(num_kernels=500),\n",
       "                                        window_length=15)"
      ]
     },
     "execution_count": 35,
     "metadata": {},
     "output_type": "execute_result"
    }
   ],
   "source": [
    "forecaster2.fit(y_train)"
   ]
  },
  {
   "cell_type": "code",
   "execution_count": 37,
   "id": "c584c9ae-13fe-476d-a959-ed653e48a474",
   "metadata": {
    "tags": []
   },
   "outputs": [],
   "source": [
    "y_pred2 = forecaster2.predict(fh=np.arange(1, len(y_test)+1))"
   ]
  },
  {
   "cell_type": "code",
   "execution_count": 38,
   "id": "4db8b3f0-87a0-4f44-9cfa-ce74291974cb",
   "metadata": {
    "tags": []
   },
   "outputs": [
    {
     "data": {
      "text/plain": [
       "0.3428058684172092"
      ]
     },
     "execution_count": 38,
     "metadata": {},
     "output_type": "execute_result"
    }
   ],
   "source": [
    "mean_absolute_percentage_error(y_test, y_pred2, symmetric=True)"
   ]
  }
 ],
 "metadata": {
  "kernelspec": {
   "display_name": "Python 3 (ipykernel)",
   "language": "python",
   "name": "python3"
  },
  "language_info": {
   "codemirror_mode": {
    "name": "ipython",
    "version": 3
   },
   "file_extension": ".py",
   "mimetype": "text/x-python",
   "name": "python",
   "nbconvert_exporter": "python",
   "pygments_lexer": "ipython3",
   "version": "3.11.4"
  }
 },
 "nbformat": 4,
 "nbformat_minor": 5
}
